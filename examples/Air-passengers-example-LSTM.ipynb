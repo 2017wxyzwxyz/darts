{
 "cells": [
  {
   "cell_type": "code",
   "execution_count": 1,
   "metadata": {
    "scrolled": true
   },
   "outputs": [
    {
     "name": "stderr",
     "output_type": "stream",
     "text": [
      "WARNING: Logging before flag parsing goes to stderr.\n",
      "I0828 09:09:57.766460 140322427553600 utils.py:23] Failed to load dill, try installing dill via \"pip install dill\" for enhanced pickling support.\n",
      "I0828 09:09:57.772182 140322427553600 fmin.py:28] Failed to load dill, try installing dill via \"pip install dill\" for enhanced pickling support.\n"
     ]
    }
   ],
   "source": [
    "%matplotlib inline\n",
    "import sys\n",
    "from u8timeseries import Prophet, KthValueAgoBaseline, ExponentialSmoothing, TimeSeries, Arima, AutoArima\n",
    "from u8timeseries.models.autoregressive_model import AutoRegressiveModel\n",
    "from u8timeseries import StandardRegressiveModel\n",
    "from u8timeseries.metrics import mape, overall_percentage_error, mase\n",
    "from u8timeseries.backtesting import simulate_forecast_ar, simulate_forecast_regr, get_train_val_series, backtest_autoregressive_model\n",
    "\n",
    "from tensorflow.keras.models import Sequential\n",
    "from tensorflow.keras.layers import LSTM, Dense, Dropout, TimeDistributed\n",
    "from sklearn.preprocessing import MinMaxScaler\n",
    "from sklearn.metrics import mean_squared_error\n",
    "import tensorflow as tf\n",
    "\n",
    "import hyperopt as hpt \n",
    "import pandas as pd\n",
    "pd.__version__\n",
    "import numpy as np\n",
    "from datetime import datetime\n",
    "import time\n",
    "import matplotlib.pyplot as plt\n",
    "from tensorflow.keras import backend as K\n",
    "from numpy.random import seed\n",
    "from tensorflow import set_random_seed\n",
    "\n",
    "from hyperopt.pyll.base import scope\n",
    "@scope.define\n",
    "def to_int(x):\n",
    "    return int(x)"
   ]
  },
  {
   "cell_type": "markdown",
   "metadata": {},
   "source": [
    "## Read data"
   ]
  },
  {
   "cell_type": "code",
   "execution_count": 2,
   "metadata": {},
   "outputs": [
    {
     "data": {
      "image/png": "[encoded data removed]",
      "text/plain": [
       "<Figure size 432x288 with 1 Axes>"
      ]
     },
     "metadata": {
      "needs_background": "light"
     },
     "output_type": "display_data"
    }
   ],
   "source": [
    "df = pd.read_csv('monthly-sunspots.csv', delimiter=\",\")\n",
    "series = TimeSeries.from_dataframe(df, 'Month', 'Sunspots')\n",
    "series.plot(lw=1)"
   ]
  },
  {
   "cell_type": "code",
   "execution_count": 3,
   "metadata": {},
   "outputs": [],
   "source": [
    "class LSTMModel(AutoRegressiveModel):\n",
    "    def __init__(self, lstm_hidden_sizes=[20], dense_hidden_sizes=[1], dropout=0.0,\n",
    "            recurrent_dropout=0.0,\n",
    "            epochs=10, batch_size=1, back_steps=3, forecast_steps=3, validation_split=0.0):\n",
    "        super().__init__()\n",
    "        print(\"NEW MODEL\")\n",
    "        # Stores training date information:\n",
    "        self.training_series: TimeSeries = None\n",
    "        self.lstm_hidden_sizes = lstm_hidden_sizes\n",
    "        self.dense_hidden_sizes = dense_hidden_sizes\n",
    "        self.dropout = dropout\n",
    "        self.recurrent_dropout = recurrent_dropout\n",
    "        self.epochs = epochs\n",
    "        self.batch_size = batch_size\n",
    "        self.back_steps = back_steps\n",
    "        self.forecast_steps = forecast_steps\n",
    "        self.validation_split = validation_split\n",
    "        # state\n",
    "        self._fit_called = False\n",
    "\n",
    "    def __split_dataset(self, series, back_steps):\n",
    "        data_in, data_out = [], []\n",
    "        for i in range(len(series) - back_steps - 1):\n",
    "            data_in.append(series[i:(i + back_steps)])\n",
    "            data_out.append(series[i + back_steps])\n",
    "        data_in = np.array(data_in, dtype=np.float32)\n",
    "        data_out = np.array(data_out, dtype=np.float32)\n",
    "        data_in = data_in.reshape(data_in.shape[0], data_in.shape[1], 1)\n",
    "        data_out = data_out.reshape(-1, 1)\n",
    "        return data_in, data_out\n",
    "\n",
    "    def fit(self, series: TimeSeries) -> None:\n",
    "        super().fit(series)\n",
    "        self.model = Sequential()\n",
    "        for size in self.lstm_hidden_sizes[:-1]:\n",
    "            self.model.add(LSTM(size, return_sequences=True, recurrent_dropout=self.recurrent_dropout))\n",
    "        self.model.add(LSTM(self.lstm_hidden_sizes[-1]))\n",
    "        for size in self.dense_hidden_sizes:\n",
    "            self.model.add(Dropout(self.dropout))\n",
    "            self.model.add(Dense(size, activation='relu'))\n",
    "        self.model.compile(loss=\"mean_absolute_error\", optimizer=\"adam\")\n",
    "        \n",
    "        self.scaler = MinMaxScaler(feature_range=(0, 1))\n",
    "        self.training_series = series\n",
    "        self.scaled_series = self.scaler.fit_transform(series.values().reshape(-1, 1))\n",
    "        data_in, data_out = self.__split_dataset(self.scaled_series, self.back_steps)\n",
    "        self.model.fit(data_in, data_out, epochs=self.epochs, batch_size=self.batch_size, shuffle=False,\n",
    "                      validation_split=self.validation_split, verbose=0)\n",
    "        self._fit_called = True\n",
    "\n",
    "    def predict(self, n: int) -> TimeSeries:\n",
    "        super().predict(n)\n",
    "        in_values = self.scaled_series[-self.back_steps:]\n",
    "        predictions = []\n",
    "        for i in range(n):\n",
    "            pred = self.model.predict(in_values.reshape(1, in_values.shape[0], in_values.shape[1]))\n",
    "            in_values = np.concatenate([in_values, pred], axis=0)\n",
    "            in_values = in_values[1:]\n",
    "            predictions.append(pred)\n",
    "        predictions = np.array(predictions).reshape(-1, 1)\n",
    "        predictions = self.scaler.inverse_transform(predictions).reshape(-1)\n",
    "        return self._build_forecast_series(predictions)"
   ]
  },
  {
   "cell_type": "code",
   "execution_count": 4,
   "metadata": {},
   "outputs": [],
   "source": [
    "train_series, test_series = series.split_after(pd.Timestamp('19571201'))"
   ]
  },
  {
   "cell_type": "code",
   "execution_count": null,
   "metadata": {
    "scrolled": true
   },
   "outputs": [],
   "source": [
    "model_lstm = LSTMModel(lstm_hidden_sizes=[25], dense_hidden_sizes=[1], dropout=0.36043224563914095,\n",
    "                    recurrent_dropout=0.0,\n",
    "                    epochs=40, batch_size=32, back_steps=32, forecast_steps=12)\n",
    "tf.reset_default_graph()\n",
    "seed(47)\n",
    "set_random_seed(47)\n",
    "sess = tf.Session()\n",
    "with sess.as_default():\n",
    "    K.set_session(sess)\n",
    "    train_series, test_series = series.split_after(pd.Timestamp('19571201'))\n",
    "    print(train_series.values().shape, test_series.values().shape)\n",
    "    model_lstm.fit(train_series)\n",
    "    pred = model_lstm.predict(len(test_series))\n",
    "    train_series.plot(lw=2, label='train')\n",
    "    test_series.plot(lw=2, label='true')\n",
    "    pred.plot(lw=2, label='prediction')\n",
    "    plt.legend()\n",
    "    mse = (np.square(test_series.values() - pred.values())).mean()\n",
    "    print(\"Test: {}\".formt(mse))\n",
    "sess.close()\n"
   ]
  },
  {
   "cell_type": "code",
   "execution_count": null,
   "metadata": {},
   "outputs": [],
   "source": [
    "#hyperopt library looks for \"the best\" hyperparameters\n",
    "K.clear_session()\n",
    "def objective(values_dict):\n",
    "    tf.reset_default_graph()\n",
    "    seed(47)\n",
    "    set_random_seed(47)\n",
    "    sess = tf.Session()\n",
    "    with sess.as_default():\n",
    "        K.set_session(sess)\n",
    "        print(values_dict)\n",
    "        model_lstm = LSTMModel(lstm_hidden_sizes=[values_dict['hidden_size'] for i in range(2)], \n",
    "                           dense_hidden_sizes=[1], \n",
    "                           dropout=values_dict['dropout'],\n",
    "                           recurrent_dropout=0.0,\n",
    "                           epochs=60, \n",
    "                           batch_size=16, \n",
    "                           back_steps=30, \n",
    "                           forecast_steps=16)\n",
    "        model_lstm.fit(train_series)\n",
    "        pred = model_lstm.predict(len(test_series))\n",
    "    sess.close()\n",
    "    loss = (np.square(test_series.values() - pred.values())).mean()\n",
    "    return loss\n",
    "    \n",
    "space = {\n",
    "            'hidden_size': 20 + hpt.hp.randint('hidden_size', 150), \n",
    "            'dropout': hpt.hp.uniform('dropout', 0.1, 0.5)\n",
    "        }\n",
    "\n",
    "trials = hpt.Trials()\n",
    "best = hpt.fmin(objective,\n",
    "              space=space,\n",
    "              algo=hpt.tpe.suggest,\n",
    "              max_evals=60,\n",
    "              trials=trials)\n",
    "\n",
    "print(best)"
   ]
  },
  {
   "cell_type": "markdown",
   "metadata": {},
   "source": [
    "## Simulate historical forecasting\n",
    "Here we'll do some backtesting. We will simulate predictions that would have been done historically with a given model. It can take a while to produce, since the model is re-fit every time the simulated prediction time advances.\n",
    "\n",
    "Such simulated forecasts are always defined with respect to a *forecast horizon*, which is the number of time steps that separate the prediction time from the forecast time. In the example below, we simulate forecasts done for 6 months in the future (compared to prediction time)."
   ]
  },
  {
   "cell_type": "code",
   "execution_count": null,
   "metadata": {},
   "outputs": [],
   "source": [
    "historical_fcast = simulate_forecast_ar(series, model_lstm, pd.Timestamp('19830401'), fcast_horizon_n=6, verbose=True)"
   ]
  },
  {
   "cell_type": "markdown",
   "metadata": {},
   "source": [
    "Let's see what this backtest forecast looks like. You can see it produces more accurate predictions than the one-off prediction done above, because here the model is re-fit every month."
   ]
  },
  {
   "cell_type": "code",
   "execution_count": null,
   "metadata": {},
   "outputs": [],
   "source": [
    "plt.figure(figsize=(8,6))\n",
    "series.plot(label='data')\n",
    "historical_fcast.plot(lw=3, label='backtest 6-months ahead forecast')\n",
    "plt.legend()"
   ]
  },
  {
   "cell_type": "markdown",
   "metadata": {},
   "source": [
    "## Backtest the models on the data using a user-defined metric\n",
    "Here we'll do slightly more advanced backtesting, and use our own metric (in this case the MAPE error function) to compare the different models. We'll simulate 12-months ahead predictions done in the past, starting in January 1955, and the errors will be computed on the 12-months period for which forecasts are done."
   ]
  },
  {
   "cell_type": "code",
   "execution_count": null,
   "metadata": {},
   "outputs": [],
   "source": [
    "def backtest_model(model):\n",
    "    tic = time.time()\n",
    "    train_val_series = get_train_val_series(series, start=pd.Timestamp('19550101'), nr_points_val=12)\n",
    "    res = backtest_autoregressive_model(model, train_val_series, mape)\n",
    "    tac = time.time()\n",
    "    print('Backtest done in %.2f s.' % (tac-tic))\n",
    "    return res"
   ]
  },
  {
   "cell_type": "code",
   "execution_count": null,
   "metadata": {},
   "outputs": [],
   "source": [
    "res_es = backtest_model(model_es)\n",
    "res_pr = backtest_model(model_pr)\n",
    "res_bl = backtest_model(model_bl)"
   ]
  },
  {
   "cell_type": "markdown",
   "metadata": {},
   "source": [
    "### Plot the user-defined backtesting results"
   ]
  },
  {
   "cell_type": "code",
   "execution_count": null,
   "metadata": {},
   "outputs": [],
   "source": [
    "plt.hist(res_es, bins=50, cumulative=True, histtype='step', \n",
    "         lw=2, label='Exponential Smoothing');\n",
    "plt.hist(res_pr, bins=50, cumulative=True, histtype='step', \n",
    "         lw=2, label='Prophet');\n",
    "plt.hist(res_bl, bins=50, cumulative=True, histtype='step', \n",
    "         lw=2, label='Baseline');\n",
    "\n",
    "plt.xlabel('Mean absolute percentage error (%)')\n",
    "plt.ylabel('CDF')\n",
    "plt.legend(loc=4)"
   ]
  },
  {
   "cell_type": "markdown",
   "metadata": {},
   "source": [
    "### Let's make an actual forecast!\n",
    "Since Exponential Smoothing is better in backtests, let's use this one."
   ]
  },
  {
   "cell_type": "code",
   "execution_count": null,
   "metadata": {},
   "outputs": [],
   "source": [
    "model_es.fit(series)\n",
    "pred = model_es.predict(n = 50)\n",
    "\n",
    "series.plot(label='data', lw=2)\n",
    "pred.plot(label='forecast', lw=2)\n",
    "plt.legend()"
   ]
  },
  {
   "cell_type": "markdown",
   "metadata": {},
   "source": [
    "## Ensembling several predictions\n",
    "### Let's simulate forecasts done by an ensemble of models"
   ]
  },
  {
   "cell_type": "code",
   "execution_count": null,
   "metadata": {},
   "outputs": [],
   "source": [
    "\"\"\" New way - backtest over time\n",
    "\"\"\"\n",
    "models = [ExponentialSmoothing(), Prophet()]\n",
    "\n",
    "historical_ar_preds = [simulate_forecast_ar(series, m, pd.Timestamp('19570101'), fcast_horizon_n=6, verbose=True)\n",
    "                       for m in models]"
   ]
  },
  {
   "cell_type": "code",
   "execution_count": null,
   "metadata": {},
   "outputs": [],
   "source": [
    "\"\"\" Combine the individual simulated predicitons\n",
    "\"\"\"\n",
    "regrModel = StandardRegressiveModel(train_n_points=12)\n",
    "\n",
    "series_val = series.intersect(historical_ar_preds[0])\n",
    "\n",
    "historical_pred = simulate_forecast_regr(historical_ar_preds, series_val, regrModel,\n",
    "                                         pd.Timestamp('19580101'), fcast_horizon_n=6)"
   ]
  },
  {
   "cell_type": "code",
   "execution_count": null,
   "metadata": {},
   "outputs": [],
   "source": [
    "\"\"\" Compute errors and plot\n",
    "\"\"\"\n",
    "plt.figure(figsize=(8,5))\n",
    "\n",
    "series.plot()\n",
    "for i, m in enumerate(models):\n",
    "    historical_ar_preds[i].plot(label=str(m))\n",
    "    \n",
    "    # intersect last part, to compare everything with ensemble\n",
    "    ar_pred = historical_ar_preds[i].intersect(historical_pred)\n",
    "       \n",
    "    mape_er = mape(series.intersect(historical_pred), ar_pred)\n",
    "    print('MAPE Error {}: {}'.format(m, mape_er))\n",
    "\n",
    "print('MAPE Error ensemble: {}'.format(mape(series.intersect(historical_pred), historical_pred)))\n",
    "\n",
    "historical_pred.plot(label='Ensemble')\n",
    "\n",
    "plt.legend()"
   ]
  },
  {
   "cell_type": "code",
   "execution_count": null,
   "metadata": {},
   "outputs": [],
   "source": []
  },
  {
   "cell_type": "markdown",
   "metadata": {},
   "source": [
    "## Example of forecasting using a regressive model and extra features"
   ]
  },
  {
   "cell_type": "code",
   "execution_count": null,
   "metadata": {},
   "outputs": [],
   "source": []
  }
 ],
 "metadata": {
  "kernelspec": {
   "display_name": "Python 3",
   "language": "python",
   "name": "python3"
  }
 },
 "nbformat": 4,
 "nbformat_minor": 2
}
