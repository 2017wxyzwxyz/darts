{
 "cells": [
  {
   "cell_type": "code",
   "execution_count": 1,
   "metadata": {
    "scrolled": true
   },
   "outputs": [],
   "source": [
    "%matplotlib inline\n",
    "import sys\n",
    "from u8timeseries import Prophet, KthValueAgoBaseline, ExponentialSmoothing, TimeSeries, Arima, AutoArima\n",
    "from u8timeseries.models.autoregressive_model import AutoRegressiveModel\n",
    "from u8timeseries import StandardRegressiveModel\n",
    "from u8timeseries.metrics import mape, overall_percentage_error, mase\n",
    "from u8timeseries.backtesting import simulate_forecast_ar, simulate_forecast_regr, get_train_val_series, backtest_autoregressive_model\n",
    "\n",
    "from tensorflow.keras.models import Sequential, Model\n",
    "from tensorflow.keras.layers import Input, LSTM, Dense, Activation, Dropout, TimeDistributed\n",
    "from sklearn.preprocessing import MinMaxScaler\n",
    "from sklearn.metrics import mean_squared_error\n",
    "\n",
    "import pandas as pd\n",
    "pd.__version__\n",
    "import numpy as np\n",
    "from datetime import datetime\n",
    "import time\n",
    "import matplotlib.pyplot as plt"
   ]
  },
  {
   "cell_type": "code",
   "execution_count": 2,
   "metadata": {},
   "outputs": [
    {
     "data": {
      "image/png": "[encoded data removed]",
      "text/plain": [
       "<Figure size 432x288 with 1 Axes>"
      ]
     },
     "metadata": {
      "needs_background": "light"
     },
     "output_type": "display_data"
    }
   ],
   "source": [
    "df = pd.read_csv('monthly-sunspots.csv', delimiter=\",\")\n",
    "series = TimeSeries.from_dataframe(df, 'Month', 'Sunspots')\n",
    "series.plot(lw=3)"
   ]
  },
  {
   "cell_type": "code",
   "execution_count": 3,
   "metadata": {},
   "outputs": [],
   "source": [
    "from numpy.random import seed\n",
    "seed(45)\n",
    "from tensorflow import set_random_seed\n",
    "set_random_seed(45)\n",
    "\n",
    "\n",
    "class Seq2SeqModel(AutoRegressiveModel):\n",
    "    def __init__(self, latent_dims=[20], dropout=0.0,\n",
    "            recurrent_dropout=0.0, epochs=10, batch_size=1, back_steps=3, forecast_steps=3,\n",
    "            validation_split=0.1, features_no=1):\n",
    "        super().__init__()\n",
    "        # Stores training date information:\n",
    "        self.training_series: TimeSeries = None\n",
    "        self.latent_dims = latent_dims\n",
    "        self.dropout = dropout\n",
    "        self.recurrent_dropout = recurrent_dropout\n",
    "        self.epochs = epochs\n",
    "        self.batch_size = batch_size\n",
    "        self.back_steps = back_steps\n",
    "        self.forecast_steps = forecast_steps\n",
    "        self.validation_split = validation_split\n",
    "        self.features_no = features_no\n",
    "        # state\n",
    "        self._fit_called = False\n",
    "\n",
    "    def split_dataset(self, series, back_steps, forecast_steps):\n",
    "        data_in, data_out = [], []\n",
    "        for i in range(len(series) - back_steps - forecast_steps):\n",
    "            data_in.append(series[i:(i + back_steps)])\n",
    "            data_out.append(series[(i + back_steps):(i + back_steps + forecast_steps)])\n",
    "        data_in = np.array(data_in, dtype=np.float32)\n",
    "        data_out = np.array(data_out, dtype=np.float32)\n",
    "        data_in = data_in.reshape(data_in.shape[0], data_in.shape[1], 1)\n",
    "        data_out = data_out.reshape(data_out.shape[0], data_out.shape[1], 1)\n",
    "        return data_in, data_out\n",
    "    \n",
    "    def create_encoder_model(self):\n",
    "        enc_input = Input(shape=(None, self.features_no))\n",
    "        outputs = enc_input\n",
    "        enc_states = []\n",
    "        for j in range(len(self.latent_dims)):\n",
    "            outputs, enc_h_state, enc_c_state = LSTM(self.latent_dims[j], \n",
    "                                                     return_state=True, return_sequences=(not bool(j)))(outputs)\n",
    "            enc_states = [enc_h_state, enc_c_state] + enc_states\n",
    "        print(enc_states)\n",
    "        return enc_input, enc_states\n",
    "\n",
    "    def create_decoder_model(self, enc_states):\n",
    "        dec_input = Input(shape=(None, self.features_no))\n",
    "        output = dec_input\n",
    "        output_layers = []\n",
    "        for j in range(len(self.latent_dims)):\n",
    "            tmp_lstm = LSTM(self.latent_dims[len(self.latent_dims)-j-1], return_sequences=True,\n",
    "                                                       return_state=True)\n",
    "            output_layers.append(tmp_lstm)\n",
    "            output, _, _ = tmp_lstm(output, initial_state=enc_states[2*j: 2*(j+1)])\n",
    "            print(enc_states[2*j: 2*(j+1)], self.latent_dims[len(self.latent_dims)-j-1])\n",
    "        dec_dense = TimeDistributed(Dense(self.features_no, activation=None))\n",
    "        output = dec_dense(output)\n",
    "        print(output_layers)\n",
    "        return dec_input, output, output_layers, dec_dense\n",
    "    \n",
    "    def fit(self, series: TimeSeries) -> None:\n",
    "        super().fit(series)\n",
    "        \n",
    "        self.enc_input, self.enc_states = self.create_encoder_model()\n",
    "        self.dec_input, output, self.output_layers, self.dec_dense = \\\n",
    "                                                     self.create_decoder_model(self.enc_states)\n",
    "        self.model = Model([self.enc_input, self.dec_input], output)\n",
    "        self.model.compile(optimizer='adam', loss='mse')\n",
    "        \n",
    "        self.scaler = MinMaxScaler(feature_range=(0, 1))\n",
    "        self.training_series = series\n",
    "        self.scaled_series = self.scaler.fit_transform(series.values().reshape(-1, 1))\n",
    "        enc_in, out = self.split_dataset(self.scaled_series, self.back_steps, self.forecast_steps)\n",
    "        dec_in = np.zeros_like(out)\n",
    "        \n",
    "        self.model.fit([enc_in, dec_in], out, epochs=self.epochs, batch_size=self.batch_size, shuffle=False,\n",
    "                      validation_split=self.validation_split)\n",
    "        self._fit_called = True\n",
    "\n",
    "\n",
    "    def predict(self, n: int) -> TimeSeries:\n",
    "        super().predict(n)\n",
    "        \n",
    "        in_values = self.scaled_series[-self.back_steps:]\n",
    "        in_values = in_values.reshape(in_values.shape[0], in_values.shape[1], 1)\n",
    "        \n",
    "        encoder_model = Model(self.enc_input, self.enc_states)\n",
    "        \n",
    "        dec_outputs = self.dec_input\n",
    "        dec_states_inputs = []\n",
    "        dec_states = []\n",
    "        for j in range(len(self.latent_dims))[::-1]:\n",
    "            print(self.latent_dims[j])\n",
    "            current_states_input = [Input(shape=(self.latent_dims[j],)) for _ in range(2)]                        \n",
    "            dec_outputs, state_h, state_c = self.output_layers[len(self.latent_dims)-j-1](dec_outputs, initial_state=current_states_input)\n",
    "            dec_states_inputs += [current_states_input]\n",
    "            dec_states += [state_h, state_c]\n",
    "            \n",
    "        dec_outputs = self.dec_dense(dec_outputs)\n",
    "        decoder_model = Model(\n",
    "            [self.dec_input] + dec_states_inputs,\n",
    "            [dec_outputs] + dec_states)\n",
    "                                                     \n",
    "        states_values = encoder_model.predict(in_values)\n",
    "        target_seq = np.zeros((1, 1, self.features_no))\n",
    "\n",
    "        decoded_sequence = []\n",
    "        for i in range(n):\n",
    "            res = decoder_model.predict(\n",
    "                [target_seq] + states_values)\n",
    "            output_val = res[0]\n",
    "            states_values = res[1:]\n",
    "            decoded_sequence.append(output_val)\n",
    "\n",
    "            target_seq = np.zeros((1, 1, self.features_no))\n",
    "            \n",
    "        predictions = np.array(decoded_sequence).reshape(-1, 1)\n",
    "        predictions = self.scaler.inverse_transform(predictions).reshape(-1)\n",
    "\n",
    "        return self._build_forecast_series(predictions)"
   ]
  },
  {
   "cell_type": "code",
   "execution_count": 4,
   "metadata": {},
   "outputs": [],
   "source": [
    "model_lstm = Seq2SeqModel(latent_dims=[30, 40], dropout=0.0,\n",
    "            recurrent_dropout=0.4,\n",
    "            epochs=60, batch_size=10, back_steps=40, forecast_steps=30)"
   ]
  },
  {
   "cell_type": "code",
   "execution_count": null,
   "metadata": {},
   "outputs": [
    {
     "name": "stderr",
     "output_type": "stream",
     "text": [
      "WARNING: Logging before flag parsing goes to stderr.\n",
      "W0806 14:22:15.478116 139907254744896 deprecation.py:506] From /opt/conda/lib/python3.6/site-packages/tensorflow/python/ops/init_ops.py:1251: calling VarianceScaling.__init__ (from tensorflow.python.ops.init_ops) with dtype is deprecated and will be removed in a future version.\n",
      "Instructions for updating:\n",
      "Call initializer instance with the dtype argument instead of passing it to the constructor\n"
     ]
    },
    {
     "name": "stdout",
     "output_type": "stream",
     "text": [
      "[<tf.Tensor 'lstm_1/while/Exit_2:0' shape=(?, 40) dtype=float32>, <tf.Tensor 'lstm_1/while/Exit_3:0' shape=(?, 40) dtype=float32>, <tf.Tensor 'lstm/while/Exit_2:0' shape=(?, 30) dtype=float32>, <tf.Tensor 'lstm/while/Exit_3:0' shape=(?, 30) dtype=float32>]\n",
      "[<tf.Tensor 'lstm_1/while/Exit_2:0' shape=(?, 40) dtype=float32>, <tf.Tensor 'lstm_1/while/Exit_3:0' shape=(?, 40) dtype=float32>] 40\n",
      "[<tf.Tensor 'lstm/while/Exit_2:0' shape=(?, 30) dtype=float32>, <tf.Tensor 'lstm/while/Exit_3:0' shape=(?, 30) dtype=float32>] 30\n",
      "[<tensorflow.python.keras.layers.recurrent.LSTM object at 0x7f3e57e0d6d8>, <tensorflow.python.keras.layers.recurrent.LSTM object at 0x7f3e57bb1198>]\n",
      "Train on 2184 samples, validate on 243 samples\n"
     ]
    },
    {
     "name": "stderr",
     "output_type": "stream",
     "text": [
      "W0806 14:22:16.462461 139907254744896 deprecation.py:323] From /opt/conda/lib/python3.6/site-packages/tensorflow/python/ops/math_grad.py:1250: add_dispatch_support.<locals>.wrapper (from tensorflow.python.ops.array_ops) is deprecated and will be removed in a future version.\n",
      "Instructions for updating:\n",
      "Use tf.where in 2.0, which has the same broadcast rule as np.where\n"
     ]
    },
    {
     "name": "stdout",
     "output_type": "stream",
     "text": [
      "Epoch 1/60\n",
      "2184/2184 [==============================] - 13s 6ms/sample - loss: 0.1124 - val_loss: 0.1661\n",
      "Epoch 2/60\n",
      "2184/2184 [==============================] - 11s 5ms/sample - loss: 0.0935 - val_loss: 0.1242\n",
      "Epoch 3/60\n",
      "2184/2184 [==============================] - 11s 5ms/sample - loss: 0.1012 - val_loss: 0.1135\n",
      "Epoch 4/60\n",
      "2184/2184 [==============================] - 11s 5ms/sample - loss: 0.1145 - val_loss: 0.1639\n",
      "Epoch 5/60\n",
      "2184/2184 [==============================] - 11s 5ms/sample - loss: 0.0929 - val_loss: 0.1239\n",
      "Epoch 6/60\n",
      "2184/2184 [==============================] - 11s 5ms/sample - loss: 0.0882 - val_loss: 0.1099\n",
      "Epoch 7/60\n",
      "2184/2184 [==============================] - 15s 7ms/sample - loss: 0.0858 - val_loss: 0.1116\n",
      "Epoch 8/60\n",
      "2184/2184 [==============================] - 11s 5ms/sample - loss: 0.0890 - val_loss: 0.1124\n",
      "Epoch 9/60\n",
      "2184/2184 [==============================] - 11s 5ms/sample - loss: 0.0912 - val_loss: 0.1116\n",
      "Epoch 10/60\n",
      "2184/2184 [==============================] - 11s 5ms/sample - loss: 0.0947 - val_loss: 0.1207\n",
      "Epoch 11/60\n",
      "2184/2184 [==============================] - 11s 5ms/sample - loss: 0.0828 - val_loss: 0.1162\n",
      "Epoch 12/60\n",
      "2184/2184 [==============================] - 11s 5ms/sample - loss: 0.0864 - val_loss: 0.1126\n",
      "Epoch 13/60\n",
      "2184/2184 [==============================] - 11s 5ms/sample - loss: 0.0825 - val_loss: 0.1144\n",
      "Epoch 14/60\n",
      "2184/2184 [==============================] - 11s 5ms/sample - loss: 0.0819 - val_loss: 0.1141\n",
      "Epoch 15/60\n",
      "2184/2184 [==============================] - 12s 5ms/sample - loss: 0.0802 - val_loss: 0.1096\n",
      "Epoch 16/60\n",
      "2184/2184 [==============================] - 13s 6ms/sample - loss: 0.0969 - val_loss: 0.1176\n",
      "Epoch 17/60\n",
      "2184/2184 [==============================] - 12s 6ms/sample - loss: 0.0915 - val_loss: 0.1163\n",
      "Epoch 18/60\n",
      "2184/2184 [==============================] - 11s 5ms/sample - loss: 0.0882 - val_loss: 0.1120\n",
      "Epoch 19/60\n",
      "2184/2184 [==============================] - 11s 5ms/sample - loss: 0.0912 - val_loss: 0.1192\n",
      "Epoch 20/60\n",
      "2184/2184 [==============================] - 11s 5ms/sample - loss: 0.0823 - val_loss: 0.1195\n",
      "Epoch 21/60\n",
      "2184/2184 [==============================] - 11s 5ms/sample - loss: 0.0787 - val_loss: 0.1128\n",
      "Epoch 22/60\n",
      "2184/2184 [==============================] - 11s 5ms/sample - loss: 0.0930 - val_loss: 0.1087\n",
      "Epoch 23/60\n",
      "2184/2184 [==============================] - 11s 5ms/sample - loss: 0.0792 - val_loss: 0.1142\n",
      "Epoch 24/60\n",
      "2184/2184 [==============================] - 11s 5ms/sample - loss: 0.0774 - val_loss: 0.1127\n",
      "Epoch 25/60\n",
      "2184/2184 [==============================] - 11s 5ms/sample - loss: 0.0777 - val_loss: 0.1115\n",
      "Epoch 26/60\n",
      "2184/2184 [==============================] - 11s 5ms/sample - loss: 0.0790 - val_loss: 0.1111\n",
      "Epoch 27/60\n",
      "2184/2184 [==============================] - 11s 5ms/sample - loss: 0.0787 - val_loss: 0.1107\n",
      "Epoch 28/60\n",
      "2184/2184 [==============================] - 11s 5ms/sample - loss: 0.0783 - val_loss: 0.1095\n",
      "Epoch 29/60\n",
      "2184/2184 [==============================] - 11s 5ms/sample - loss: 0.0780 - val_loss: 0.1092\n",
      "Epoch 30/60\n",
      "2184/2184 [==============================] - 11s 5ms/sample - loss: 0.0786 - val_loss: 0.1104\n",
      "Epoch 31/60\n",
      "2184/2184 [==============================] - 11s 5ms/sample - loss: 0.0777 - val_loss: 0.1082\n",
      "Epoch 32/60\n",
      "2184/2184 [==============================] - 11s 5ms/sample - loss: 0.0794 - val_loss: 0.1071\n",
      "Epoch 33/60\n",
      "2184/2184 [==============================] - 11s 5ms/sample - loss: 0.0772 - val_loss: 0.1108\n",
      "Epoch 34/60\n",
      "2184/2184 [==============================] - 11s 5ms/sample - loss: 0.0767 - val_loss: 0.1105\n",
      "Epoch 35/60\n",
      "2184/2184 [==============================] - 11s 5ms/sample - loss: 0.0768 - val_loss: 0.1095\n",
      "Epoch 36/60\n",
      "2184/2184 [==============================] - 11s 5ms/sample - loss: 0.0765 - val_loss: 0.1086\n",
      "Epoch 37/60\n",
      "2184/2184 [==============================] - 11s 5ms/sample - loss: 0.0761 - val_loss: 0.1090\n",
      "Epoch 38/60\n",
      "2184/2184 [==============================] - 12s 5ms/sample - loss: 0.0750 - val_loss: 0.1089\n",
      "Epoch 39/60\n",
      "2184/2184 [==============================] - 11s 5ms/sample - loss: 0.0751 - val_loss: 0.1084\n",
      "Epoch 40/60\n",
      "2184/2184 [==============================] - 11s 5ms/sample - loss: 0.0748 - val_loss: 0.1090\n",
      "Epoch 41/60\n",
      "2184/2184 [==============================] - 11s 5ms/sample - loss: 0.0746 - val_loss: 0.1076\n",
      "Epoch 42/60\n",
      "2184/2184 [==============================] - 10s 5ms/sample - loss: 0.0744 - val_loss: 0.1098\n",
      "Epoch 43/60\n",
      "2184/2184 [==============================] - 12s 6ms/sample - loss: 0.0747 - val_loss: 0.1085\n",
      "Epoch 44/60\n",
      "2184/2184 [==============================] - 10s 5ms/sample - loss: 0.0735 - val_loss: 0.1105\n",
      "Epoch 45/60\n",
      "2184/2184 [==============================] - 12s 5ms/sample - loss: 0.0738 - val_loss: 0.1097\n",
      "Epoch 46/60\n",
      "2184/2184 [==============================] - 12s 5ms/sample - loss: 0.0733 - val_loss: 0.1107\n",
      "Epoch 47/60\n",
      "2184/2184 [==============================] - 12s 5ms/sample - loss: 0.0729 - val_loss: 0.1108\n",
      "Epoch 48/60\n",
      "2184/2184 [==============================] - 13s 6ms/sample - loss: 0.0729 - val_loss: 0.1109\n",
      "Epoch 49/60\n",
      "2184/2184 [==============================] - 10s 5ms/sample - loss: 0.0726 - val_loss: 0.1109\n",
      "Epoch 50/60\n",
      "2184/2184 [==============================] - 11s 5ms/sample - loss: 0.0722 - val_loss: 0.1110\n",
      "Epoch 51/60\n",
      "2184/2184 [==============================] - 11s 5ms/sample - loss: 0.0718 - val_loss: 0.1103\n",
      "Epoch 52/60\n",
      "2184/2184 [==============================] - 11s 5ms/sample - loss: 0.0717 - val_loss: 0.1110\n",
      "Epoch 53/60\n",
      "2184/2184 [==============================] - 10s 5ms/sample - loss: 0.0716 - val_loss: 0.1118\n",
      "Epoch 54/60\n",
      "2184/2184 [==============================] - 10s 5ms/sample - loss: 0.0715 - val_loss: 0.1110\n",
      "Epoch 55/60\n",
      "2184/2184 [==============================] - 10s 5ms/sample - loss: 0.0712 - val_loss: 0.1095\n",
      "Epoch 56/60\n",
      "2184/2184 [==============================] - 11s 5ms/sample - loss: 0.0710 - val_loss: 0.1095\n",
      "Epoch 57/60\n",
      "2184/2184 [==============================] - 12s 5ms/sample - loss: 0.0710 - val_loss: 0.1088\n",
      "Epoch 58/60\n",
      " 350/2184 [===>..........................] - ETA: 9s - loss: 0.0819"
     ]
    }
   ],
   "source": [
    "train, test = series.split_after(pd.Timestamp('19570101'))\n",
    "model_lstm.fit(train)\n",
    "# model_es.fit(train)\n",
    "pred = model_lstm.predict(len(test))"
   ]
  },
  {
   "cell_type": "code",
   "execution_count": 6,
   "metadata": {},
   "outputs": [
    {
     "name": "stdout",
     "output_type": "stream",
     "text": [
      "7742.251084491798\n"
     ]
    },
    {
     "data": {
      "image/png": "[encoded data removed]",
      "text/plain": [
       "<Figure size 432x288 with 1 Axes>"
      ]
     },
     "metadata": {
      "needs_background": "light"
     },
     "output_type": "display_data"
    }
   ],
   "source": [
    "train.plot(lw=2, label='train')\n",
    "test.plot(lw=2, label='true')\n",
    "pred.plot(lw=2, label='prediction')\n",
    "plt.legend()\n",
    "mse = (np.square(test.values() - pred.values())).mean()\n",
    "print(mse)"
   ]
  },
  {
   "cell_type": "markdown",
   "metadata": {},
   "source": [
    "## Simulate historical forecasting\n",
    "Here we'll do some backtesting. We will simulate predictions that would have been done historically with a given model. It can take a while to produce, since the model is re-fit every time the simulated prediction time advances.\n",
    "\n",
    "Such simulated forecasts are always defined with respect to a *forecast horizon*, which is the number of time steps that separate the prediction time from the forecast time. In the example below, we simulate forecasts done for 6 months in the future (compared to prediction time)."
   ]
  },
  {
   "cell_type": "code",
   "execution_count": 8,
   "metadata": {},
   "outputs": [
    {
     "data": {
      "text/plain": [
       "HBox(children=(IntProgress(value=0, max=3), HTML(value='')))"
      ]
     },
     "metadata": {},
     "output_type": "display_data"
    },
    {
     "name": "stdout",
     "output_type": "stream",
     "text": [
      "Epoch 1/20\n",
      "2770/2770 [==============================] - 10s 4ms/sample - loss: 0.0125\n",
      "Epoch 2/20\n",
      "2770/2770 [==============================] - 9s 3ms/sample - loss: 0.0109\n",
      "Epoch 3/20\n",
      "2770/2770 [==============================] - 10s 3ms/sample - loss: 0.0090\n",
      "Epoch 4/20\n",
      "2770/2770 [==============================] - 9s 3ms/sample - loss: 0.0107\n",
      "Epoch 5/20\n",
      "2770/2770 [==============================] - 8s 3ms/sample - loss: 0.0088\n",
      "Epoch 6/20\n",
      "2770/2770 [==============================] - 8s 3ms/sample - loss: 0.0091\n",
      "Epoch 7/20\n",
      "2770/2770 [==============================] - 8s 3ms/sample - loss: 0.0089\n",
      "Epoch 8/20\n",
      "2770/2770 [==============================] - 7s 3ms/sample - loss: 0.0081\n",
      "Epoch 9/20\n",
      "2770/2770 [==============================] - 7s 3ms/sample - loss: 0.0083\n",
      "Epoch 10/20\n",
      "2770/2770 [==============================] - 8s 3ms/sample - loss: 0.0079\n",
      "Epoch 11/20\n",
      "2770/2770 [==============================] - 8s 3ms/sample - loss: 0.0071\n",
      "Epoch 12/20\n",
      "2770/2770 [==============================] - 7s 3ms/sample - loss: 0.0064\n",
      "Epoch 13/20\n",
      "2770/2770 [==============================] - 7s 3ms/sample - loss: 0.0063\n",
      "Epoch 14/20\n",
      "2770/2770 [==============================] - 8s 3ms/sample - loss: 0.0057\n",
      "Epoch 15/20\n",
      "2770/2770 [==============================] - 8s 3ms/sample - loss: 0.0054\n",
      "Epoch 16/20\n",
      "2770/2770 [==============================] - 7s 3ms/sample - loss: 0.0051\n",
      "Epoch 17/20\n",
      "2770/2770 [==============================] - 7s 3ms/sample - loss: 0.0050\n",
      "Epoch 18/20\n",
      "2770/2770 [==============================] - 8s 3ms/sample - loss: 0.0047\n",
      "Epoch 19/20\n",
      "2770/2770 [==============================] - 8s 3ms/sample - loss: 0.0046\n",
      "Epoch 20/20\n",
      "2770/2770 [==============================] - 8s 3ms/sample - loss: 0.0046\n",
      "(40, 1)\n",
      "Epoch 1/20\n",
      "2771/2771 [==============================] - 10s 4ms/sample - loss: 0.0131\n",
      "Epoch 2/20\n",
      "2771/2771 [==============================] - 8s 3ms/sample - loss: 0.0107\n",
      "Epoch 3/20\n",
      "2771/2771 [==============================] - 8s 3ms/sample - loss: 0.0097\n",
      "Epoch 4/20\n",
      "2771/2771 [==============================] - 8s 3ms/sample - loss: 0.0089\n",
      "Epoch 5/20\n",
      "2771/2771 [==============================] - 8s 3ms/sample - loss: 0.0091\n",
      "Epoch 6/20\n",
      "2771/2771 [==============================] - 8s 3ms/sample - loss: 0.0093\n",
      "Epoch 7/20\n",
      "2771/2771 [==============================] - 8s 3ms/sample - loss: 0.0088\n",
      "Epoch 8/20\n",
      "2771/2771 [==============================] - 8s 3ms/sample - loss: 0.0087\n",
      "Epoch 9/20\n",
      "2771/2771 [==============================] - 8s 3ms/sample - loss: 0.0074\n",
      "Epoch 10/20\n",
      "2771/2771 [==============================] - 9s 3ms/sample - loss: 0.0089\n",
      "Epoch 11/20\n",
      "2771/2771 [==============================] - 8s 3ms/sample - loss: 0.0082\n",
      "Epoch 12/20\n",
      "2771/2771 [==============================] - 8s 3ms/sample - loss: 0.0078\n",
      "Epoch 13/20\n",
      "2771/2771 [==============================] - 9s 3ms/sample - loss: 0.0074\n",
      "Epoch 14/20\n",
      "2771/2771 [==============================] - 8s 3ms/sample - loss: 0.0072\n",
      "Epoch 15/20\n",
      "2771/2771 [==============================] - 8s 3ms/sample - loss: 0.0063\n",
      "Epoch 16/20\n",
      "2771/2771 [==============================] - 8s 3ms/sample - loss: 0.0063\n",
      "Epoch 17/20\n",
      "2771/2771 [==============================] - 9s 3ms/sample - loss: 0.0063\n",
      "Epoch 18/20\n",
      "2771/2771 [==============================] - 9s 3ms/sample - loss: 0.0055\n",
      "Epoch 19/20\n",
      "2771/2771 [==============================] - 9s 3ms/sample - loss: 0.0050\n",
      "Epoch 20/20\n",
      "2771/2771 [==============================] - 8s 3ms/sample - loss: 0.0048\n",
      "(40, 1)\n",
      "Epoch 1/20\n",
      "2772/2772 [==============================] - 10s 4ms/sample - loss: 0.0114\n",
      "Epoch 2/20\n",
      "2772/2772 [==============================] - 9s 3ms/sample - loss: 0.0104\n",
      "Epoch 3/20\n",
      "2772/2772 [==============================] - 9s 3ms/sample - loss: 0.0101\n",
      "Epoch 4/20\n",
      "2772/2772 [==============================] - 8s 3ms/sample - loss: 0.0092\n",
      "Epoch 5/20\n",
      "2772/2772 [==============================] - 9s 3ms/sample - loss: 0.0096\n",
      "Epoch 6/20\n",
      "2772/2772 [==============================] - 9s 3ms/sample - loss: 0.0092\n",
      "Epoch 7/20\n",
      "2772/2772 [==============================] - 9s 3ms/sample - loss: 0.0081\n",
      "Epoch 8/20\n",
      "2772/2772 [==============================] - 9s 3ms/sample - loss: 0.0084\n",
      "Epoch 9/20\n",
      "2772/2772 [==============================] - 8s 3ms/sample - loss: 0.0080\n",
      "Epoch 10/20\n",
      "2772/2772 [==============================] - 8s 3ms/sample - loss: 0.0070\n",
      "Epoch 11/20\n",
      "2772/2772 [==============================] - 9s 3ms/sample - loss: 0.0061\n",
      "Epoch 12/20\n",
      "2772/2772 [==============================] - 9s 3ms/sample - loss: 0.0059\n",
      "Epoch 13/20\n",
      "2772/2772 [==============================] - 8s 3ms/sample - loss: 0.0053\n",
      "Epoch 14/20\n",
      "2772/2772 [==============================] - 8s 3ms/sample - loss: 0.0057\n",
      "Epoch 15/20\n",
      "2772/2772 [==============================] - 8s 3ms/sample - loss: 0.0056\n",
      "Epoch 16/20\n",
      "2772/2772 [==============================] - 8s 3ms/sample - loss: 0.0047\n",
      "Epoch 17/20\n",
      "2772/2772 [==============================] - 8s 3ms/sample - loss: 0.0050\n",
      "Epoch 18/20\n",
      "2772/2772 [==============================] - 8s 3ms/sample - loss: 0.0054\n",
      "Epoch 19/20\n",
      "2772/2772 [==============================] - 8s 3ms/sample - loss: 0.0049\n",
      "Epoch 20/20\n",
      "2772/2772 [==============================] - 8s 3ms/sample - loss: 0.0048\n",
      "(40, 1)\n",
      "\n"
     ]
    }
   ],
   "source": [
    "historical_fcast = simulate_forecast_ar(series, model_lstm, pd.Timestamp('19830401'), fcast_horizon_n=6, verbose=True)"
   ]
  },
  {
   "cell_type": "markdown",
   "metadata": {},
   "source": [
    "Let's see what this backtest forecast looks like. You can see it produces more accurate predictions than the one-off prediction done above, because here the model is re-fit every month."
   ]
  },
  {
   "cell_type": "code",
   "execution_count": 9,
   "metadata": {},
   "outputs": [
    {
     "data": {
      "text/plain": [
       "<matplotlib.legend.Legend at 0x7fb3f59dbf60>"
      ]
     },
     "execution_count": 9,
     "metadata": {},
     "output_type": "execute_result"
    },
    {
     "data": {
      "image/png": "[encoded data removed]",
      "text/plain": [
       "<Figure size 576x432 with 1 Axes>"
      ]
     },
     "metadata": {
      "needs_background": "light"
     },
     "output_type": "display_data"
    }
   ],
   "source": [
    "plt.figure(figsize=(8,6))\n",
    "series.plot(label='data')\n",
    "historical_fcast.plot(lw=3, label='backtest 6-months ahead forecast')\n",
    "plt.legend()"
   ]
  },
  {
   "cell_type": "markdown",
   "metadata": {},
   "source": [
    "## Backtest the models on the data using a user-defined metric\n",
    "Here we'll do slightly more advanced backtesting, and use our own metric (in this case the MAPE error function) to compare the different models. We'll simulate 12-months ahead predictions done in the past, starting in January 1955, and the errors will be computed on the 12-months period for which forecasts are done."
   ]
  },
  {
   "cell_type": "code",
   "execution_count": null,
   "metadata": {},
   "outputs": [],
   "source": [
    "def backtest_model(model):\n",
    "    tic = time.time()\n",
    "    train_val_series = get_train_val_series(series, start=pd.Timestamp('19550101'), nr_points_val=12)\n",
    "    res = backtest_autoregressive_model(model, train_val_series, mape)\n",
    "    tac = time.time()\n",
    "    print('Backtest done in %.2f s.' % (tac-tic))\n",
    "    return res"
   ]
  },
  {
   "cell_type": "code",
   "execution_count": null,
   "metadata": {},
   "outputs": [],
   "source": [
    "res_es = backtest_model(model_es)\n",
    "res_pr = backtest_model(model_pr)\n",
    "res_bl = backtest_model(model_bl)"
   ]
  },
  {
   "cell_type": "markdown",
   "metadata": {},
   "source": [
    "### Plot the user-defined backtesting results"
   ]
  },
  {
   "cell_type": "code",
   "execution_count": null,
   "metadata": {},
   "outputs": [],
   "source": [
    "plt.hist(res_es, bins=50, cumulative=True, histtype='step', \n",
    "         lw=2, label='Exponential Smoothing');\n",
    "plt.hist(res_pr, bins=50, cumulative=True, histtype='step', \n",
    "         lw=2, label='Prophet');\n",
    "plt.hist(res_bl, bins=50, cumulative=True, histtype='step', \n",
    "         lw=2, label='Baseline');\n",
    "\n",
    "plt.xlabel('Mean absolute percentage error (%)')\n",
    "plt.ylabel('CDF')\n",
    "plt.legend(loc=4)"
   ]
  },
  {
   "cell_type": "markdown",
   "metadata": {},
   "source": [
    "### Let's make an actual forecast!\n",
    "Since Exponential Smoothing is better in backtests, let's use this one."
   ]
  },
  {
   "cell_type": "code",
   "execution_count": null,
   "metadata": {},
   "outputs": [],
   "source": [
    "model_es.fit(series)\n",
    "pred = model_es.predict(n = 50)\n",
    "\n",
    "series.plot(label='data', lw=2)\n",
    "pred.plot(label='forecast', lw=2)\n",
    "plt.legend()"
   ]
  },
  {
   "cell_type": "markdown",
   "metadata": {},
   "source": [
    "## Ensembling several predictions\n",
    "### Let's simulate forecasts done by an ensemble of models"
   ]
  },
  {
   "cell_type": "code",
   "execution_count": null,
   "metadata": {},
   "outputs": [],
   "source": [
    "\"\"\" New way - backtest over time\n",
    "\"\"\"\n",
    "models = [ExponentialSmoothing(), Prophet()]\n",
    "\n",
    "historical_ar_preds = [simulate_forecast_ar(series, m, pd.Timestamp('19570101'), fcast_horizon_n=6, verbose=True)\n",
    "                       for m in models]"
   ]
  },
  {
   "cell_type": "code",
   "execution_count": null,
   "metadata": {},
   "outputs": [],
   "source": [
    "\"\"\" Combine the individual simulated predicitons\n",
    "\"\"\"\n",
    "regrModel = StandardRegressiveModel(train_n_points=12)\n",
    "\n",
    "series_val = series.intersect(historical_ar_preds[0])\n",
    "\n",
    "historical_pred = simulate_forecast_regr(historical_ar_preds, series_val, regrModel,\n",
    "                                         pd.Timestamp('19580101'), fcast_horizon_n=6)"
   ]
  },
  {
   "cell_type": "code",
   "execution_count": null,
   "metadata": {},
   "outputs": [],
   "source": [
    "\"\"\" Compute errors and plot\n",
    "\"\"\"\n",
    "plt.figure(figsize=(8,5))\n",
    "\n",
    "series.plot()\n",
    "for i, m in enumerate(models):\n",
    "    historical_ar_preds[i].plot(label=str(m))\n",
    "    \n",
    "    # intersect last part, to compare everything with ensemble\n",
    "    ar_pred = historical_ar_preds[i].intersect(historical_pred)\n",
    "       \n",
    "    mape_er = mape(series.intersect(historical_pred), ar_pred)\n",
    "    print('MAPE Error {}: {}'.format(m, mape_er))\n",
    "\n",
    "print('MAPE Error ensemble: {}'.format(mape(series.intersect(historical_pred), historical_pred)))\n",
    "\n",
    "historical_pred.plot(label='Ensemble')\n",
    "\n",
    "plt.legend()"
   ]
  },
  {
   "cell_type": "code",
   "execution_count": null,
   "metadata": {},
   "outputs": [],
   "source": []
  },
  {
   "cell_type": "markdown",
   "metadata": {},
   "source": [
    "## Example of forecasting using a regressive model and extra features"
   ]
  },
  {
   "cell_type": "code",
   "execution_count": null,
   "metadata": {},
   "outputs": [],
   "source": []
  }
 ],
 "metadata": {
  "kernelspec": {
   "display_name": "Python 3",
   "language": "python",
   "name": "python3"
  },
  "language_info": {
   "codemirror_mode": {
    "name": "ipython",
    "version": 3
   },
   "file_extension": ".py",
   "mimetype": "text/x-python",
   "name": "python",
   "nbconvert_exporter": "python",
   "pygments_lexer": "ipython3",
   "version": "3.6.7"
  }
 },
 "nbformat": 4,
 "nbformat_minor": 2
}
